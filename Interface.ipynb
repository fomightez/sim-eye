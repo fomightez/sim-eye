{
 "cells": [
  {
   "cell_type": "code",
   "execution_count": 1,
   "metadata": {},
   "outputs": [],
   "source": [
    "import sys  \n",
    "sys.path.insert(0, './gore')\n",
    "import gore\n",
    "import ipywidgets as widgets"
   ]
  },
  {
   "cell_type": "code",
   "execution_count": 3,
   "metadata": {},
   "outputs": [
    {
     "data": {
      "application/vnd.jupyter.widget-view+json": {
       "model_id": "91d28e5ca00a40f7b3f5a913ffecaf01",
       "version_major": 2,
       "version_minor": 0
      },
      "text/plain": [
       "FloatSlider(value=24.0, continuous_update=False, description='Focal length:', max=50.0, min=5.0, readout_forma…"
      ]
     },
     "metadata": {},
     "output_type": "display_data"
    },
    {
     "data": {
      "application/vnd.jupyter.widget-view+json": {
       "model_id": "6ae11afb77aa49c7b3c389335a52f8ab",
       "version_major": 2,
       "version_minor": 0
      },
      "text/plain": [
       "IntSlider(value=32, description='Fundus angle:', min=5, style=SliderStyle(description_width='initial'))"
      ]
     },
     "metadata": {},
     "output_type": "display_data"
    },
    {
     "data": {
      "application/vnd.jupyter.widget-view+json": {
       "model_id": "e515abfd2f3542289300dc38b45f8b11",
       "version_major": 2,
       "version_minor": 0
      },
      "text/plain": [
       "IntSlider(value=6, description='Number of gores:', max=24, min=1, style=SliderStyle(description_width='initial…"
      ]
     },
     "metadata": {},
     "output_type": "display_data"
    },
    {
     "data": {
      "application/vnd.jupyter.widget-view+json": {
       "model_id": "2cdc67a5357741beae5f967d33a6c5fa",
       "version_major": 2,
       "version_minor": 0
      },
      "text/plain": [
       "IntSlider(value=100, description='Retina angle', max=150, min=10, step=5)"
      ]
     },
     "metadata": {},
     "output_type": "display_data"
    },
    {
     "data": {
      "application/vnd.jupyter.widget-view+json": {
       "model_id": "c57a077f861b4771b7c65b6572f7949d",
       "version_major": 2,
       "version_minor": 0
      },
      "text/plain": [
       "IntSlider(value=10, description='Angle of no-cut area', max=90, step=5, style=SliderStyle(description_width='i…"
      ]
     },
     "metadata": {},
     "output_type": "display_data"
    },
    {
     "data": {
      "application/vnd.jupyter.widget-view+json": {
       "model_id": "807108badac444c7b8f9e024409f4b33",
       "version_major": 2,
       "version_minor": 0
      },
      "text/plain": [
       "IntSlider(value=1000, description='Resolution', max=2000, min=100, step=100, style=SliderStyle(description_wid…"
      ]
     },
     "metadata": {},
     "output_type": "display_data"
    },
    {
     "data": {
      "application/vnd.jupyter.widget-view+json": {
       "model_id": "ddb0a811154c493fb6f826cd4c3f8c44",
       "version_major": 2,
       "version_minor": 0
      },
      "text/plain": [
       "Dropdown(description='Projection:', index=1, options=('sinusoidal', 'cassini', 'american polyconic', 'rectangu…"
      ]
     },
     "metadata": {},
     "output_type": "display_data"
    },
    {
     "data": {
      "application/vnd.jupyter.widget-view+json": {
       "model_id": "7735594fb1fb4dbe93dcf66a383b95d0",
       "version_major": 2,
       "version_minor": 0
      },
      "text/plain": [
       "Button(description='Click to gore', icon='eye', style=ButtonStyle(), tooltip='Click me')"
      ]
     },
     "metadata": {},
     "output_type": "display_data"
    },
    {
     "data": {
      "application/vnd.jupyter.widget-view+json": {
       "model_id": "63f01d7c7928461d8a03ac82eceeaa39",
       "version_major": 2,
       "version_minor": 0
      },
      "text/plain": [
       "Output(layout=Layout(border='1px solid black'))"
      ]
     },
     "metadata": {},
     "output_type": "display_data"
    },
    {
     "name": "stderr",
     "output_type": "stream",
     "text": [
      "Processing coordinate positions: 100%|██████████| 199/199 [00:01<00:00, 130.94it/s]\n",
      "Processing image rows: 100%|██████████| 200/200 [00:00<00:00, 815.62it/s] \n",
      "Processing image rows: 100%|██████████| 200/200 [00:00<00:00, 385.07it/s]\n",
      "Processing image rows: 100%|██████████| 200/200 [00:00<00:00, 437.12it/s]\n",
      "Processing image rows: 100%|██████████| 200/200 [00:00<00:00, 999.51it/s] \n"
     ]
    }
   ],
   "source": [
    "out = widgets.Output(layout={'border': '1px solid black'})\n",
    "\n",
    "style = {'description_width': 'initial'}\n",
    "w_focal_length = widgets.FloatSlider(\n",
    "    value=24,\n",
    "    min=5,\n",
    "    max=50.0,\n",
    "    step=0.5,\n",
    "    description='Focal length:',\n",
    "    disabled=False,\n",
    "    continuous_update=False,\n",
    "    orientation='horizontal',\n",
    "    readout=True,\n",
    "    readout_format='.1f',\n",
    ")\n",
    "display(w_focal_length)\n",
    "\n",
    "w_alpha_max = widgets.IntSlider(\n",
    "    min=5,\n",
    "    max=100,\n",
    "    value = 32,\n",
    "    step=1,\n",
    "    description='Fundus angle:',\n",
    "    style = style)\n",
    "display(w_alpha_max)\n",
    "\n",
    "w_num_gores = widgets.IntSlider(\n",
    "    min = 1,\n",
    "    max = 24,\n",
    "    value = 6,\n",
    "    step = 1,\n",
    "    description = 'Number of gores:',\n",
    "    style=style)\n",
    "display(w_num_gores)\n",
    "\n",
    "w_alpha_limit = widgets.IntSlider(\n",
    "    min = 10,\n",
    "    max = 150,\n",
    "    value = 100,\n",
    "    step = 5,\n",
    "    description = 'Retina angle')\n",
    "display(w_alpha_limit)\n",
    "\n",
    "w_phi_no_cut = widgets.IntSlider(\n",
    "    min = 0,\n",
    "    max = 90,\n",
    "    value = 10,\n",
    "    step = 5,\n",
    "    description = \"Angle of no-cut area\",\n",
    "    style=style)\n",
    "display(w_phi_no_cut)\n",
    "\n",
    "w_num_points = widgets.IntSlider(\n",
    "    min = 100,\n",
    "    max = 2000,\n",
    "    value = 1000,\n",
    "    step = 100,\n",
    "    description = 'Resolution',\n",
    "    style = style)\n",
    "display(w_num_points)\n",
    "\n",
    "w_projection = widgets.Dropdown(\n",
    "    options=[\"sinusoidal\", \"cassini\", \"american polyconic\", \n",
    "             \"rectanguar polyconic\", \"transverse mercator\"],\n",
    "    value='cassini',\n",
    "    description='Projection:',\n",
    "    disabled=False,\n",
    ")\n",
    "display(w_projection)\n",
    "\n",
    "btn_calculate = widgets.Button(\n",
    "    description='Click to gore',\n",
    "    disabled=False,\n",
    "    button_style='', # 'success', 'info', 'warning', 'danger' or ''\n",
    "    tooltip='Click me',\n",
    "    icon='eye' # (FontAwesome names without the `fa-` prefix)\n",
    ")\n",
    "def on_calculate(b):\n",
    "    out.clear_output()\n",
    "    rotary = gore.make_rotary(im_path = './img/fundus_white.jpg', \n",
    "                 focal_length = w_focal_length.value, \n",
    "                 alpha_max = gore.deg2rad(w_alpha_max.value), \n",
    "                 num_gores = w_num_gores.value, \n",
    "                 projection = w_projection.value, \n",
    "                 alpha_limit = gore.deg2rad(w_alpha_limit.value), \n",
    "                 num_points = w_num_points.value,\n",
    "                 phi_no_cut = gore.deg2rad(w_phi_no_cut.value))\n",
    "    \n",
    "    with out:\n",
    "        gore.fig(rotary)\n",
    "    rotary.save(\"rotary.png\")\n",
    "    \n",
    "btn_calculate.on_click(on_calculate)\n",
    "display(btn_calculate)\n",
    "\n",
    "out\n",
    "\n"
   ]
  },
  {
   "cell_type": "code",
   "execution_count": null,
   "metadata": {},
   "outputs": [],
   "source": []
  }
 ],
 "metadata": {
  "kernelspec": {
   "display_name": "Python 3",
   "language": "python",
   "name": "python3"
  },
  "language_info": {
   "codemirror_mode": {
    "name": "ipython",
    "version": 3
   },
   "file_extension": ".py",
   "mimetype": "text/x-python",
   "name": "python",
   "nbconvert_exporter": "python",
   "pygments_lexer": "ipython3",
   "version": "3.8.5"
  }
 },
 "nbformat": 4,
 "nbformat_minor": 4
}
